{
 "cells": [
  {
   "cell_type": "markdown",
   "id": "4c678834-d96d-4f01-9b03-e707260eddc0",
   "metadata": {},
   "source": [
    "**Load test data from excel into dataframe**"
   ]
  },
  {
   "cell_type": "code",
   "execution_count": 1,
   "id": "d9b795ed-1e53-45c1-b06e-679f599e9731",
   "metadata": {},
   "outputs": [
    {
     "name": "stdout",
     "output_type": "stream",
     "text": [
      "Please select the training data file:\n",
      "Top 5 rows in the training DataFrame:\n",
      "     concatenate     MM/SM no.                                Short Text  \\\n",
      "0   450000721010  3.781023e+09  (CAT 2-0) DELIVERY CHARGES APPLICABLE FO   \n",
      "1  4500007210570  3.781023e+09  (CAT 5-0) DELIVERY CHARGES APPLICABLE FO   \n",
      "2  4500007210590  3.789990e+09  (CAT 5-2B)  SOLID FIXED WALL MOUNTING <2   \n",
      "3  4500007210600  3.789990e+09  (CAT 5-2C) DOUBLE ARM SOLID WALL MOUNT <   \n",
      "4  4500007210650  3.789990e+09  (CAT 5-3B)  SOLID FIXED WALL MOUNTING <2   \n",
      "\n",
      "                              Contract Header Text  \\\n",
      "0  Supply of Electronics and Electrical Appliances   \n",
      "1  Supply of Electronics and Electrical Appliances   \n",
      "2  Supply of Electronics and Electrical Appliances   \n",
      "3  Supply of Electronics and Electrical Appliances   \n",
      "4  Supply of Electronics and Electrical Appliances   \n",
      "\n",
      "                                  Contract Item Text  \\\n",
      "0  (CAT 2-0) DELIVERY CHARGES APPLICABLE FOR PURC...   \n",
      "1  (CAT 5-0) DELIVERY CHARGES APPLICABLE FOR PURC...   \n",
      "2  (CAT 5-2B)  SOLID FIXED WALL MOUNTING <(><<)>(...   \n",
      "3  (CAT 5-2C) DOUBLE ARM SOLID WALL MOUNT <(><<)>...   \n",
      "4  (CAT 5-3B)  SOLID FIXED WALL MOUNTING <(><<)>(...   \n",
      "\n",
      "              Contract Header and Contract Item text           HTD  \\\n",
      "0  Supply of Electronics and Electrical Appliance...  WOG contract   \n",
      "1  Supply of Electronics and Electrical Appliance...  WOG contract   \n",
      "2  Supply of Electronics and Electrical Appliance...  WOG contract   \n",
      "3  Supply of Electronics and Electrical Appliance...  WOG contract   \n",
      "4  Supply of Electronics and Electrical Appliance...  WOG contract   \n",
      "\n",
      "                                     Validated GL    SM  \n",
      "0  218999 - Other Services511699 - Other Services  E043  \n",
      "1  218999 - Other Services511699 - Other Services  E043  \n",
      "2  218999 - Other Services511699 - Other Services  E043  \n",
      "3  218999 - Other Services511699 - Other Services  E043  \n",
      "4  218999 - Other Services511699 - Other Services  E043  \n"
     ]
    }
   ],
   "source": [
    "import pandas as pd\n",
    "from tkinter import Tk\n",
    "from tkinter.filedialog import askopenfilename\n",
    "\n",
    "# Use tkinter to select the Excel file\n",
    "def select_file():\n",
    "    Tk().withdraw()\n",
    "    file_path = askopenfilename(\n",
    "        title=\"Select Training Excel File\",\n",
    "        filetypes=[(\"Excel files\", \"*.xlsx *.xls\"), (\"All files\", \"*.*\")]\n",
    "    )\n",
    "    return file_path\n",
    "\n",
    "# Prompt the user\n",
    "print(\"Please select the training data file:\")\n",
    "training_excel_file = select_file()\n",
    "\n",
    "if training_excel_file:\n",
    "    # Read Excel file, header starts at row 2 (index 1)\n",
    "    df_training = pd.read_excel(training_excel_file, sheet_name='Unique records', header=1)\n",
    "    \n",
    "    print(\"Top 5 rows in the training DataFrame:\")\n",
    "    print(df_training.head())\n",
    "else:\n",
    "    print(\"No file selected. Please try again.\")"
   ]
  },
  {
   "cell_type": "markdown",
   "id": "565b4a71-f5a1-4a3f-87ba-c1de0b503ebc",
   "metadata": {},
   "source": [
    "**Data cleansing**"
   ]
  },
  {
   "cell_type": "code",
   "execution_count": 2,
   "id": "a147fd51-4c2d-4a25-9825-611d93623152",
   "metadata": {
    "scrolled": true
   },
   "outputs": [
    {
     "name": "stdout",
     "output_type": "stream",
     "text": [
      "\n",
      "Cleaned training DataFrame:\n",
      "  material_number                            description  \\\n",
      "0            E043  Other Services511699 - Other Services   \n",
      "1            E043  Other Services511699 - Other Services   \n",
      "2            E043  Other Services511699 - Other Services   \n",
      "3            E043  Other Services511699 - Other Services   \n",
      "4            E043  Other Services511699 - Other Services   \n",
      "\n",
      "                                Combined Description  \n",
      "0  Supply of Electronics and Electrical Appliance...  \n",
      "1  Supply of Electronics and Electrical Appliance...  \n",
      "2  Supply of Electronics and Electrical Appliance...  \n",
      "3  Supply of Electronics and Electrical Appliance...  \n",
      "4  Supply of Electronics and Electrical Appliance...  \n"
     ]
    }
   ],
   "source": [
    "import re\n",
    "\n",
    "# Ensure the necessary columns exist\n",
    "required_columns = ['Contract Header and Contract Item text', 'SM', 'Validated GL']\n",
    "for col in required_columns:\n",
    "    if col not in df_training.columns:\n",
    "        raise ValueError(f\"The training Excel file must contain '{col}' column.\")\n",
    "\n",
    "# Data cleansing: Remove null values\n",
    "df_training = df_training.dropna(subset=required_columns)\n",
    "\n",
    "# Remove unwanted patterns\n",
    "def clean_query_text(text):\n",
    "    return re.sub(r'<\\(><<\\)>(.*?)<\\(><<\\)>', '', text).strip()\n",
    "\n",
    "df_training['Contract Header and Contract Item text'] = df_training['Contract Header and Contract Item text'].apply(clean_query_text)\n",
    "\n",
    "df_training = df_training.rename(columns={\"Contract Header and Contract Item text\": \"Combined Description\"})\n",
    "df_training['material_number'] = df_training['SM'].str.strip()\n",
    "df_training['description'] = df_training['Validated GL'].str.split(' - ', n=1).str[1].str.strip()\n",
    "df_training['Combined Description'] = df_training['Combined Description'].str.strip()\n",
    "\n",
    "df_training = df_training.drop(columns=['SM', 'Validated GL'])\n",
    "\n",
    "# Display cleaned DataFrame\n",
    "print(\"\\nCleaned training DataFrame:\")\n",
    "print(df_training[['material_number', 'description', 'Combined Description']].head())"
   ]
  },
  {
   "cell_type": "markdown",
   "id": "9f9fe733-be85-4538-a676-dad5fe9f061f",
   "metadata": {},
   "source": [
    "**Vector embedding of materials.json**"
   ]
  },
  {
   "cell_type": "code",
   "execution_count": 3,
   "id": "c9ea8ae6-23ba-4aa8-a4f7-2fa808e727ca",
   "metadata": {
    "scrolled": true
   },
   "outputs": [
    {
     "name": "stdout",
     "output_type": "stream",
     "text": [
      "\n",
      "Vector embedding completed for reference data\n"
     ]
    }
   ],
   "source": [
    "import sys\n",
    "import os\n",
    "\n",
    "sys.path.append(os.path.abspath(\"..\"))\n",
    "from src import search\n",
    "json_file = '../data/processed/materials.json'\n",
    "\n",
    "# Initialize the search engine with reference data\n",
    "search_engine = search.SentenceTransformerSearch(data_file=json_file)\n",
    "\n",
    "print(\"\\nVector embedding completed for reference data\")"
   ]
  },
  {
   "cell_type": "markdown",
   "id": "16885247-f289-45b4-8ebc-34693700dff4",
   "metadata": {},
   "source": [
    "**Evaluate model, save to json**"
   ]
  },
  {
   "cell_type": "code",
   "execution_count": null,
   "id": "2db493d5-2938-4a27-8d6d-4b20775c4bce",
   "metadata": {},
   "outputs": [],
   "source": [
    "# from sklearn.model_selection import train_test_split\n",
    "# from src.search import evaluate_model\n",
    "# import json\n",
    "\n",
    "# # Split the data \n",
    "# train_df, test_df = train_test_split(df_training, test_size=0.9, random_state=42)\n",
    "\n",
    "# # Evaluate the model \n",
    "# results = evaluate_model(search_engine, train_df, top_k=5)\n",
    "\n",
    "# # Save results to a JSON file \n",
    "# output_file = \"../data/processed/results.json\"\n",
    "# with open(output_file, \"w\") as f:\n",
    "#     json.dump(results, f, indent=4)\n",
    "\n",
    "# print(f\"\\nEvaluation completed. Results saved to {output_file}\")"
   ]
  },
  {
   "cell_type": "markdown",
   "id": "e7452d58",
   "metadata": {},
   "source": [
    "**Evaluate model, save to dataframe**"
   ]
  },
  {
   "cell_type": "code",
   "execution_count": 4,
   "id": "adde7492",
   "metadata": {},
   "outputs": [
    {
     "name": "stdout",
     "output_type": "stream",
     "text": [
      "\n",
      "Evaluation completed. Results DataFrame:\n",
      "                                               query expected  \\\n",
      "0  Unified Video Surveillance System (UVSS) Pay-p...     E031   \n",
      "1  WHOLE OF GOVERNMENT (WOG) RESEARCH SERVICES PE...     E043   \n",
      "2  10-Year Period Contract for Ad-hoc Corrective ...     E073   \n",
      "3  Provision of Hiring Services for Cars, VIP Bus...     E021   \n",
      "4  SUPPLY AND DELIVERY OF MARKED BUSES WITH COMPR...     E063   \n",
      "\n",
      "                                expected_description  \\\n",
      "0  Software as a Service511603 - Software as a Se...   \n",
      "1              Other Services511699 - Other Services   \n",
      "2  Maintenance: Other Equipment & ToolsNot Applic...   \n",
      "3                      Local TransportNot Applicable   \n",
      "4          Maintenance: Motor VehiclesNot Applicable   \n",
      "\n",
      "                                     retrieved_top_5  \\\n",
      "0  [{'material_number': 'E005', 'description': 'R...   \n",
      "1  [{'material_number': 'E032', 'description': 'T...   \n",
      "2  [{'material_number': 'E063', 'description': 'M...   \n",
      "3  [{'material_number': 'E004', 'description': 'R...   \n",
      "4  [{'material_number': 'E063', 'description': 'M...   \n",
      "\n",
      "       retrieved_material_numbers                    similarity_scores  \\\n",
      "0  [E005, E006, E004, E115, E027]   [28.52, 27.66, 26.32, 25.7, 24.94]   \n",
      "1  [E032, E047, E046, E045, E043]      [41.72, 36.2, 36.2, 36.2, 36.2]   \n",
      "2  [E063, E064, E071, E066, E027]  [28.31, 26.21, 25.78, 24.75, 24.28]   \n",
      "3  [E004, E047, E046, E045, E043]  [39.49, 38.99, 38.99, 38.99, 38.99]   \n",
      "4  [E063, E071, E030, E043, E045]   [41.68, 37.1, 35.92, 35.58, 35.58]   \n",
      "\n",
      "   is_correct  \n",
      "0       False  \n",
      "1        True  \n",
      "2       False  \n",
      "3       False  \n",
      "4        True  \n"
     ]
    }
   ],
   "source": [
    "from sklearn.model_selection import train_test_split\n",
    "from src.search import evaluate_model\n",
    "\n",
    "# Split the data \n",
    "train_df, test_df = train_test_split(df_training, test_size=0.7, random_state=42)\n",
    "\n",
    "# Evaluate the model \n",
    "results = evaluate_model(search_engine, train_df, top_k=5)\n",
    "\n",
    "# Convert the results to a DataFrame \n",
    "df = pd.DataFrame(results)\n",
    "\n",
    "print(\"\\nEvaluation completed. Results DataFrame:\")\n",
    "print(df.head())"
   ]
  },
  {
   "cell_type": "markdown",
   "id": "7d891f62",
   "metadata": {},
   "source": [
    "**(Existing results json file only) load json file**"
   ]
  },
  {
   "cell_type": "code",
   "execution_count": null,
   "id": "dc7e71ce",
   "metadata": {},
   "outputs": [],
   "source": [
    "# import os\n",
    "# import json\n",
    "# import pandas as pd\n",
    "# # Define the path to the results.json file\n",
    "# results_file = os.path.abspath(os.path.join(\"..\", \"data\", \"processed\", \"results_all-MiniLM-L6-v2.json\"))\n",
    "\n",
    "# # Load the results JSON file\n",
    "# if os.path.exists(results_file):\n",
    "#     with open(results_file, \"r\") as f:\n",
    "#         results = json.load(f)\n",
    "\n",
    "#     df = pd.json_normalize(results)\n",
    "\n",
    "#     print(df.head())\n",
    "# else:\n",
    "#     print(f\"File not found: {results_file}\")"
   ]
  },
  {
   "cell_type": "markdown",
   "id": "3d5a96d4",
   "metadata": {},
   "source": [
    "**Calculate Overall Metrics**"
   ]
  },
  {
   "cell_type": "code",
   "execution_count": 8,
   "id": "26cbeeed",
   "metadata": {},
   "outputs": [
    {
     "name": "stdout",
     "output_type": "stream",
     "text": [
      "Overall Accuracy: 48.93%\n",
      "Top 10 Material Numbers by F1 Score:\n",
      "   material_number  f1_score\n",
      "9             E064  0.640990\n",
      "3             E033  0.591640\n",
      "30            E039  0.564622\n",
      "44            E031  0.491508\n",
      "53            E009  0.488355\n",
      "15            E043  0.433683\n",
      "29            E050  0.363636\n",
      "1             E073  0.320403\n",
      "7             E003  0.300242\n",
      "49            E082  0.279605\n"
     ]
    }
   ],
   "source": [
    "from sklearn.metrics import f1_score\n",
    "\n",
    "accuracy = df[\"is_correct\"].mean()\n",
    "print(f\"Overall Accuracy: {accuracy:.2%}\")\n",
    "\n",
    "f1_scores = {}\n",
    "\n",
    "# Get unique material numbers\n",
    "all_material_numbers = set(df['expected']).union(*df['retrieved_material_numbers'])\n",
    "\n",
    "for material_number in all_material_numbers:\n",
    "    y_true = []\n",
    "    y_pred = []\n",
    "    for _, row in df.iterrows():\n",
    "        # True label: 1 if the expected material number matches the current material number, else 0\n",
    "        y_true.append(1 if row['expected'] == material_number else 0)\n",
    "        # Predicted label: 1 if the current material number is in the retrieved list, else 0\n",
    "        y_pred.append(1 if material_number in row['retrieved_material_numbers'] else 0)\n",
    "\n",
    "    score = f1_score(y_true, y_pred, zero_division=0)\n",
    "    f1_scores[material_number] = score\n",
    "\n",
    "f1_scores_df = pd.DataFrame(list(f1_scores.items()), columns=['material_number', 'f1_score'])\n",
    "sorted_f1_scores = f1_scores_df.sort_values(by='f1_score', ascending=False)\n",
    "\n",
    "# Display the top 10 material numbers by F1 score\n",
    "print(\"Top 10 Material Numbers by F1 Score:\")\n",
    "print(sorted_f1_scores.head(10))"
   ]
  },
  {
   "cell_type": "markdown",
   "id": "ec861a14",
   "metadata": {},
   "source": [
    "**Confidence vs. Accuracy**"
   ]
  },
  {
   "cell_type": "code",
   "execution_count": 12,
   "id": "ed0cf35a",
   "metadata": {
    "scrolled": true
   },
   "outputs": [
    {
     "data": {
      "image/png": "[encoded data removed]",
      "text/plain": [
       "<Figure size 1000x600 with 1 Axes>"
      ]
     },
     "metadata": {},
     "output_type": "display_data"
    }
   ],
   "source": [
    "import numpy as np\n",
    "import pandas as pd\n",
    "import matplotlib.pyplot as plt\n",
    "\n",
    "# Define a range of similarity score threshold\n",
    "thresholds = np.linspace(df['similarity_score'].min(), df['similarity_score'].max(), 100)\n",
    "\n",
    "accuracies = []\n",
    "\n",
    "# Calculate accuracy for each threshold\n",
    "for threshold in thresholds:\n",
    "    df['predicted_correct'] = df['similarity_score'] >= threshold\n",
    "    accuracy = (df['predicted_correct'] == df['is_correct']).mean()\n",
    "    accuracies.append(accuracy)\n",
    "\n",
    "# Plot Accuracy vs. Similarity Score \n",
    "plt.figure(figsize=(10, 6))\n",
    "plt.plot(thresholds, accuracies, marker='o', linestyle='-', color='b')\n",
    "plt.xlabel('Similarity Score Threshold')\n",
    "plt.ylabel('Accuracy')\n",
    "plt.title('Accuracy vs. Similarity Score')\n",
    "plt.grid(True)\n",
    "plt.show()"
   ]
  },
  {
   "cell_type": "code",
   "execution_count": 16,
   "id": "93e55830",
   "metadata": {},
   "outputs": [
    {
     "name": "stdout",
     "output_type": "stream",
     "text": [
      "High Similarity Cases:\n",
      "                                                   query expected  \\\n",
      "1      WHOLE OF GOVERNMENT (WOG) RESEARCH SERVICES PE...     E043   \n",
      "4      SUPPLY AND DELIVERY OF MARKED BUSES WITH COMPR...     E063   \n",
      "5      Provision of Printing and Lettershopping Servi...     E043   \n",
      "6      SUPPLY OF CORPORATE GIFTSPrinting Cost (Digita...     E043   \n",
      "7      PROVISION OF CATERING SERVICES FOR A PERIOD OF...     E004   \n",
      "...                                                  ...      ...   \n",
      "15668  PROVISION OF CATERING SERVICES FOR A PERIOD OF...     E009   \n",
      "15670  Three-Year Leasing of Digital Copiers and Desk...     E008   \n",
      "15671  Provision of Bus Hiring Services [Republic Ent...     E021   \n",
      "15673  PROVISION OF CATERING SERVICES FOR A PERIOD OF...     E016   \n",
      "15674  FINVITETT20300008 PROVISION OF COURIER SERVICE...     E039   \n",
      "\n",
      "           retrieved_material_numbers  max_similarity_score  \n",
      "1      [E032, E047, E046, E045, E043]                 41.72  \n",
      "4      [E063, E071, E030, E043, E045]                 41.68  \n",
      "5      [E039, E008, E047, E043, E045]                 44.30  \n",
      "6      [E039, E008, E047, E045, E043]                 43.49  \n",
      "7      [E009, E041, E016, E043, E045]                 43.18  \n",
      "...                               ...                   ...  \n",
      "15668  [E009, E043, E045, E047, E046]                 47.18  \n",
      "15670  [E005, E003, E006, E004, E017]                 45.70  \n",
      "15671  [E047, E043, E045, E046, E047]                 42.38  \n",
      "15673  [E009, E016, E041, E011, E043]                 42.86  \n",
      "15674  [E039, E011, E103, E016, E020]                 55.23  \n",
      "\n",
      "[7790 rows x 4 columns]\n",
      "\n",
      "Most Common Retrieved Material Numbers in High Similarity Cases:\n",
      "Material Number: E016, Count: 3191\n",
      "Material Number: E045, Count: 3131\n",
      "Material Number: E043, Count: 3119\n",
      "Material Number: E046, Count: 2738\n",
      "Material Number: E047, Count: 2636\n",
      "Material Number: E009, Count: 2544\n",
      "Material Number: E041, Count: 2119\n",
      "Material Number: E039, Count: 1809\n",
      "Material Number: E011, Count: 1756\n",
      "Material Number: E008, Count: 1476\n",
      "Material Number: E004, Count: 865\n",
      "Material Number: E005, Count: 862\n",
      "Material Number: E071, Count: 820\n",
      "Material Number: E027, Count: 816\n",
      "Material Number: E003, Count: 804\n",
      "Material Number: E103, Count: 713\n",
      "Material Number: E033, Count: 700\n",
      "Material Number: E063, Count: 594\n",
      "Material Number: E073, Count: 593\n",
      "Material Number: E006, Count: 579\n",
      "Material Number: E032, Count: 578\n",
      "Material Number: E114, Count: 522\n",
      "Material Number: E025, Count: 497\n",
      "Material Number: E017, Count: 482\n",
      "Material Number: E113, Count: 441\n",
      "Material Number: E064, Count: 387\n",
      "Material Number: E115, Count: 366\n",
      "Material Number: E031, Count: 336\n",
      "Material Number: E124, Count: 292\n",
      "Material Number: E074, Count: 278\n",
      "Material Number: E066, Count: 254\n",
      "Material Number: E036, Count: 222\n",
      "Material Number: E035, Count: 211\n",
      "Material Number: E020, Count: 202\n",
      "Material Number: E082, Count: 182\n",
      "Material Number: E026, Count: 180\n",
      "Material Number: E048, Count: 173\n",
      "Material Number: E076, Count: 172\n",
      "Material Number: E049, Count: 148\n",
      "Material Number: E022, Count: 145\n",
      "Material Number: E111, Count: 144\n",
      "Material Number: E075, Count: 128\n",
      "Material Number: E091, Count: 109\n",
      "Material Number: E001, Count: 108\n",
      "Material Number: E029, Count: 81\n",
      "Material Number: E030, Count: 80\n",
      "Material Number: E034, Count: 75\n",
      "Material Number: E021, Count: 63\n",
      "Material Number: E085, Count: 47\n",
      "Material Number: E024, Count: 39\n",
      "Material Number: E088, Count: 36\n",
      "Material Number: E023, Count: 30\n",
      "Material Number: E007, Count: 26\n",
      "Material Number: E121, Count: 17\n",
      "Material Number: E018, Count: 15\n",
      "Material Number: E050, Count: 14\n",
      "Material Number: E120, Count: 5\n"
     ]
    }
   ],
   "source": [
    "import pandas as pd\n",
    "\n",
    "threshold = 41.0\n",
    "\n",
    "# Extract the highest similarity score for each query\n",
    "df['max_similarity_score'] = df['similarity_scores'].apply(max)\n",
    "\n",
    "# Filter cases with similarity score >= threshold\n",
    "high_similarity_cases = df[df['max_similarity_score'] >= threshold]\n",
    "\n",
    "# Display high similarity cases\n",
    "print(\"High Similarity Cases:\")\n",
    "print(high_similarity_cases[['query', 'expected', 'retrieved_material_numbers', 'max_similarity_score']])\n",
    "\n",
    "\n",
    "from collections import Counter\n",
    "\n",
    "# Flatten the list of retrieved material numbers for high similarity cases\n",
    "retrieved_materials = [item for sublist in high_similarity_cases['retrieved_material_numbers'] for item in sublist]\n",
    "\n",
    "material_counts = Counter(retrieved_materials)\n",
    "\n",
    "# Display the most common retrieved material numbers\n",
    "print(\"\\nMost Common Retrieved Material Numbers in High Similarity Cases:\")\n",
    "for material, count in material_counts.most_common():\n",
    "    print(f\"Material Number: {material}, Count: {count}\")"
   ]
  },
  {
   "cell_type": "markdown",
   "id": "348f8bb6",
   "metadata": {},
   "source": [
    "**Description length analysis for correct matches**"
   ]
  },
  {
   "cell_type": "code",
   "execution_count": null,
   "id": "551e7958",
   "metadata": {},
   "outputs": [],
   "source": [
    "# correct_df = df[df[\"is_correct\"]]\n",
    "# correct_materials = correct_df.explode(\"retrieved_material_numbers\")\n",
    "\n",
    "# correct_materials[\"retrieved_descriptions\"] = correct_materials.apply(\n",
    "#     lambda row: get_description_for_material(row[\"retrieved_material_numbers\"], row[\"retrieved_top_5\"]),\n",
    "#     axis=1\n",
    "# )\n",
    "\n",
    "# # Add a column for description lengths\n",
    "# correct_materials[\"description_length\"] = correct_materials[\"retrieved_descriptions\"].apply(\n",
    "#     lambda desc: len(desc) if isinstance(desc, str) else 0\n",
    "# )\n",
    "\n",
    "# # Count the top correct material numbers\n",
    "# common_correct_matches = correct_materials[\"retrieved_material_numbers\"].value_counts().head(10)\n",
    "\n",
    "# # Map to material numbers\n",
    "# material_to_description_correct = correct_materials.drop_duplicates(\"retrieved_material_numbers\").set_index(\n",
    "#     \"retrieved_material_numbers\"\n",
    "# )[[\"retrieved_descriptions\", \"description_length\"]].to_dict(\"index\")\n",
    "\n",
    "# # print rows\n",
    "# print(\"Most Common Correct Matches with Description Lengths:\")\n",
    "# for material_number, count in common_correct_matches.items():\n",
    "#     desc_info = material_to_description_correct.get(material_number, {})\n",
    "#     description = desc_info.get(\"retrieved_descriptions\", \"No description available\")\n",
    "#     desc_length = desc_info.get(\"description_length\", 0)\n",
    "#     print(f\"{material_number} - {description} (Count: {count}, Length: {desc_length} characters)\")\n",
    "\n",
    "# # chart of description lengths distribution\n",
    "# correct_materials[\"description_length\"].hist(bins=20, alpha=0.7, color=\"green\", label=\"Correct Matches\")\n",
    "# plt.title(\"Description Length Distribution for Correct Matches\")\n",
    "# plt.xlabel(\"Description Length (characters)\")\n",
    "# plt.ylabel(\"Count\")\n",
    "# #plt.legend()\n",
    "# plt.show()"
   ]
  },
  {
   "cell_type": "markdown",
   "id": "496bd49f",
   "metadata": {},
   "source": [
    "**Analyze Incorrect Predictions and their description lengths**"
   ]
  },
  {
   "cell_type": "code",
   "execution_count": null,
   "id": "7801b4ce",
   "metadata": {},
   "outputs": [],
   "source": [
    "incorrect_df = df[~df[\"is_correct\"]]\n",
    "\n",
    "# Flatten the retrieved material numbers\n",
    "incorrect_materials = incorrect_df.explode(\"retrieved_material_numbers\")\n",
    "\n",
    "def get_description_for_material(material_number, top_5_matches):\n",
    "    for match in top_5_matches:\n",
    "        if match[\"material_number\"] == material_number:\n",
    "            return match[\"description\"]\n",
    "    return \"No description available\"\n",
    "\n",
    "incorrect_materials[\"retrieved_descriptions\"] = incorrect_materials.apply(\n",
    "    lambda row: get_description_for_material(row[\"retrieved_material_numbers\"], row[\"retrieved_top_5\"]),\n",
    "    axis=1\n",
    ")\n",
    "\n",
    "# Add a column for description lengths\n",
    "incorrect_materials[\"description_length\"] = incorrect_materials[\"retrieved_descriptions\"].apply(\n",
    "    lambda desc: len(desc) if isinstance(desc, str) else 0\n",
    ")\n",
    "\n",
    "# Count the top incorrect material numbers\n",
    "common_incorrect_matches = incorrect_materials[\"retrieved_material_numbers\"].value_counts().head(10)\n",
    "\n",
    "# Map to each material number\n",
    "material_to_description = incorrect_materials.drop_duplicates(\"retrieved_material_numbers\").set_index(\n",
    "    \"retrieved_material_numbers\"\n",
    ")[[\"retrieved_descriptions\", \"description_length\"]].to_dict(\"index\")\n",
    "\n",
    "# print rows\n",
    "print(\"Most Common Incorrect Matches with Description Lengths:\")\n",
    "for material_number, count in common_incorrect_matches.items():\n",
    "    desc_info = material_to_description.get(material_number, {})\n",
    "    description = desc_info.get(\"retrieved_descriptions\", \"No description available\")\n",
    "    desc_length = desc_info.get(\"description_length\", 0)\n",
    "    print(f\"{material_number} - {description} (Count: {count}, Length: {desc_length} characters)\")\n",
    "\n",
    "# chart for top incorrect matches\n",
    "common_incorrect_matches.plot(kind=\"bar\", title=\"Top Services with Incorrect Matches\")\n",
    "plt.xlabel(\"Service Number\")\n",
    "plt.ylabel(\"Count\")\n",
    "plt.show()\n",
    "\n",
    "# chart for description length distribution\n",
    "incorrect_materials[\"description_length\"].plot(kind=\"hist\", bins=20, alpha=0.7, color=\"orange\", title=\"Description Length Distribution for Incorrect Matches\")\n",
    "plt.xlabel(\"Description Length (characters)\")\n",
    "plt.ylabel(\"Count\")\n",
    "plt.show()"
   ]
  },
  {
   "cell_type": "markdown",
   "id": "338891f5",
   "metadata": {},
   "source": [
    "**Code below to export results to excel**"
   ]
  },
  {
   "cell_type": "code",
   "execution_count": null,
   "id": "5794c422",
   "metadata": {},
   "outputs": [],
   "source": [
    "# # Prepare data for export\n",
    "# additional_data = []\n",
    "\n",
    "# for result in results:  \n",
    "#     # Combine expected material number and description\n",
    "#     expected_combined = f\"{result['expected']} - {result['expected_description']}\"\n",
    "\n",
    "#     # Combine top 5 matched material numbers into a single string\n",
    "#     top_matches_combined = \"; \".join(\n",
    "#         [f\"{match['material_number']} score:{match['score']}\" for match in result[\"retrieved_top_5\"]]\n",
    "#     )\n",
    "\n",
    "#     additional_data.append({\n",
    "#         \"query\": result[\"query\"],\n",
    "#         \"expected\": expected_combined,  \n",
    "#         \"matches\": top_matches_combined,  \n",
    "#         \"is_correct\": \"True\" if result[\"is_correct\"] else \"False\"  \n",
    "#     })\n",
    "\n",
    "# additional_df = pd.DataFrame(additional_data)\n",
    "\n",
    "# output_path = \"../data/output/evaluation_results.xlsx\"\n",
    "\n",
    "# # Dynamically get the model name\n",
    "# model_name = getattr(search_engine, \"model_name\", \"Unknown_Model\")\n",
    "# sheet_name = model_name.replace(\"/\", \"_\")[:31]  \n",
    "\n",
    "# os.makedirs(os.path.dirname(output_path), exist_ok=True)\n",
    "\n",
    "# # Append to the Excel file\n",
    "# with pd.ExcelWriter(output_path, engine=\"openpyxl\", mode=\"a\", if_sheet_exists=\"replace\") as writer:\n",
    "#     additional_df.to_excel(writer, index=False, sheet_name=sheet_name)\n",
    "\n",
    "# print(f\"Additional results appended to sheet '{sheet_name}' in: {output_path}\")"
   ]
  },
  {
   "cell_type": "code",
   "execution_count": null,
   "id": "29f8de06",
   "metadata": {},
   "outputs": [],
   "source": []
  }
 ],
 "metadata": {
  "kernelspec": {
   "display_name": "Python 3 (ipykernel)",
   "language": "python",
   "name": "python3"
  },
  "language_info": {
   "codemirror_mode": {
    "name": "ipython",
    "version": 3
   },
   "file_extension": ".py",
   "mimetype": "text/x-python",
   "name": "python",
   "nbconvert_exporter": "python",
   "pygments_lexer": "ipython3",
   "version": "3.11.4"
  }
 },
 "nbformat": 4,
 "nbformat_minor": 5
}
