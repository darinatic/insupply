{
 "cells": [
  {
   "cell_type": "markdown",
   "metadata": {},
   "source": [
    "## Accuracy chart"
   ]
  },
  {
   "cell_type": "code",
   "execution_count": 1,
   "metadata": {},
   "outputs": [
    {
     "name": "stdout",
     "output_type": "stream",
     "text": [
      "Requirement already satisfied: openpyxl in /usr/local/python/3.12.1/lib/python3.12/site-packages (3.1.5)\n",
      "Requirement already satisfied: et-xmlfile in /usr/local/python/3.12.1/lib/python3.12/site-packages (from openpyxl) (2.0.0)\n",
      "Note: you may need to restart the kernel to use updated packages.\n",
      "                                               query  \\\n",
      "0  Provision of Event Management Services   [Cat ...   \n",
      "1  PROVISION OF GDC RESOURCES    EXTRANET BANDWID...   \n",
      "2  WOG Translation and Related Services Period Co...   \n",
      "3  WOG Research Services Period Contract cum Fram...   \n",
      "4  WOG Research Services Period Contract cum Fram...   \n",
      "\n",
      "                         expected_description  top_similarity_score  \\\n",
      "0                    Other Services(OOE only)                 30.01   \n",
      "1  Tech Services-Network and Cabling Services                 30.14   \n",
      "2                    Other Services(OOE only)                 30.17   \n",
      "3                    Other Services(OOE only)                 30.21   \n",
      "4                    Other Services(OOE only)                 30.21   \n",
      "\n",
      "   is_correct                                      top_5_matches  \\\n",
      "0        True  Other Services-Property Management Services; T...   \n",
      "1        True  Utilities-Telecommunications; Other Services-L...   \n",
      "2        True  Staff Well-Being(OOE only); Fixed Asset Purcha...   \n",
      "3        True  Utilities-Telecommunications; Tech Services-IC...   \n",
      "4        True  Utilities-Telecommunications; Tech Services-IC...   \n",
      "\n",
      "  remarks (general only, maybe inaccurate)  \n",
      "0                                      NaN  \n",
      "1                                      NaN  \n",
      "2                                      NaN  \n",
      "3                                      NaN  \n",
      "4                                      NaN  \n"
     ]
    }
   ],
   "source": [
    "%pip install openpyxl\n",
    "\n",
    "import pandas as pd\n",
    "\n",
    "# read the Excel file into a dataframe\n",
    "df = pd.read_excel('/workspaces/insupply/data/output/similarity_range_analysis.xlsx')\n",
    "\n",
    "# output the head of the dataframe\n",
    "print(df.head())"
   ]
  },
  {
   "cell_type": "code",
   "execution_count": 2,
   "metadata": {},
   "outputs": [
    {
     "name": "stdout",
     "output_type": "stream",
     "text": [
      "                                               query  \\\n",
      "0  provision of event management services cat 2 h...   \n",
      "1  provision of gdc resources extranet bandwidth ...   \n",
      "2  wog translation and related services period co...   \n",
      "3  wog research services period contract cum fram...   \n",
      "4  wog research services period contract cum fram...   \n",
      "\n",
      "                         expected_description  top_similarity_score  \\\n",
      "0                    Other Services(OOE only)                 30.01   \n",
      "1  Tech Services-Network and Cabling Services                 30.14   \n",
      "2                    Other Services(OOE only)                 30.17   \n",
      "3                    Other Services(OOE only)                 30.21   \n",
      "4                    Other Services(OOE only)                 30.21   \n",
      "\n",
      "   is_correct                                      top_5_matches  \\\n",
      "0        True  Other Services-Property Management Services; T...   \n",
      "1        True  Utilities-Telecommunications; Other Services-L...   \n",
      "2        True  Staff Well-Being(OOE only); Fixed Asset Purcha...   \n",
      "3        True  Utilities-Telecommunications; Tech Services-IC...   \n",
      "4        True  Utilities-Telecommunications; Tech Services-IC...   \n",
      "\n",
      "  remarks (general only, maybe inaccurate) word_query  \n",
      "0                                      NaN  provision  \n",
      "1                                      NaN  provision  \n",
      "2                                      NaN        wog  \n",
      "3                                      NaN        wog  \n",
      "4                                      NaN        wog  \n"
     ]
    }
   ],
   "source": [
    "import re\n",
    "\n",
    "# convert all queries to lowercase and remove non-alphanumeric characters\n",
    "def keep_alphanumeric(df, columns=None):\n",
    "    if columns is None:\n",
    "        columns = df.select_dtypes(include=['object']).columns\n",
    "    for column in columns:\n",
    "        df[column] = df[column].str.lower().apply(lambda x: re.sub(r'\\W+', ' ', x))\n",
    "    return df\n",
    "\n",
    "df_filtered = keep_alphanumeric(df, columns=['query'])\n",
    "\n",
    "# create a new column 'word_query' with the first word from the 'query' column\n",
    "df_filtered['word_query'] = df_filtered['query'].apply(lambda x: x.split()[0] if x.split() else '')\n",
    "\n",
    "# print the first 5 rows to verify the changes\n",
    "print(df_filtered.head())"
   ]
  },
  {
   "cell_type": "code",
   "execution_count": 3,
   "metadata": {},
   "outputs": [
    {
     "name": "stdout",
     "output_type": "stream",
     "text": [
      "        word  count\n",
      "0  provision   3931\n",
      "1        wog    344\n",
      "2     supply    277\n",
      "3       five     81\n",
      "4      three     64\n",
      "5      whole     53\n",
      "6  framework     37\n",
      "7      video     22\n",
      "8          7     22\n",
      "9     period     22\n"
     ]
    }
   ],
   "source": [
    "# Get the count of each word in 'word_query' where 'is_correct' is False\n",
    "word_counts = df_filtered[df_filtered['is_correct'] == False]['word_query'].value_counts().reset_index()\n",
    "\n",
    "# Rename the columns for better readability\n",
    "word_counts.columns = ['word', 'count']\n",
    "\n",
    "# Sort the dataframe by count in descending order\n",
    "word_counts = word_counts.sort_values(by='count', ascending=False)\n",
    "\n",
    "# Output the full dataframe\n",
    "print(word_counts.head(10))"
   ]
  },
  {
   "cell_type": "code",
   "execution_count": 4,
   "metadata": {},
   "outputs": [
    {
     "name": "stdout",
     "output_type": "stream",
     "text": [
      "        word  count  true_count  accuracy_percentage\n",
      "0  provision   3931         935            19.214961\n",
      "1        wog    344         303            46.831530\n",
      "2     supply    277          70            20.172911\n",
      "3       five     81          15            15.625000\n",
      "4      three     64           9            12.328767\n",
      "5      whole     53           0             0.000000\n",
      "6  framework     37          14            27.450980\n",
      "7      video     22           0             0.000000\n",
      "8          7     22           0             0.000000\n",
      "9     period     22           5            18.518519\n"
     ]
    },
    {
     "name": "stderr",
     "output_type": "stream",
     "text": [
      "/tmp/ipykernel_24172/2222141604.py:20: SettingWithCopyWarning: \n",
      "A value is trying to be set on a copy of a slice from a DataFrame.\n",
      "Try using .loc[row_indexer,col_indexer] = value instead\n",
      "\n",
      "See the caveats in the documentation: https://pandas.pydata.org/pandas-docs/stable/user_guide/indexing.html#returning-a-view-versus-a-copy\n",
      "  top_10_false_words['true_count'] = true_counts\n",
      "/tmp/ipykernel_24172/2222141604.py:21: SettingWithCopyWarning: \n",
      "A value is trying to be set on a copy of a slice from a DataFrame.\n",
      "Try using .loc[row_indexer,col_indexer] = value instead\n",
      "\n",
      "See the caveats in the documentation: https://pandas.pydata.org/pandas-docs/stable/user_guide/indexing.html#returning-a-view-versus-a-copy\n",
      "  top_10_false_words['accuracy_percentage'] = accuracy_percentages\n"
     ]
    }
   ],
   "source": [
    "# Check if 'is_correct' column exists in the dataframe\n",
    "if 'is_correct' in df_filtered.columns:\n",
    "    # Get the top 5 words with the most counts of false matches\n",
    "    top_10_false_words = word_counts.head(10)\n",
    "\n",
    "    # Initialize lists to store the counts of true matches and accuracy percentages\n",
    "    true_counts = []\n",
    "    accuracy_percentages = []\n",
    "\n",
    "    # Calculate the count of true matches and accuracy percentage for each word\n",
    "    for word in top_10_false_words['word']:\n",
    "        true_count = df_filtered[(df_filtered['word_query'] == word) & (df_filtered['is_correct'] == True)].shape[0]\n",
    "        false_count = df_filtered[(df_filtered['word_query'] == word) & (df_filtered['is_correct'] == False)].shape[0]\n",
    "        total_count = true_count + false_count\n",
    "        accuracy_percentage = (true_count / total_count) * 100 if total_count > 0 else 0\n",
    "        true_counts.append(true_count)\n",
    "        accuracy_percentages.append(accuracy_percentage)\n",
    "\n",
    "    # Add the true counts and accuracy percentages to the dataframe\n",
    "    top_10_false_words['true_count'] = true_counts\n",
    "    top_10_false_words['accuracy_percentage'] = accuracy_percentages\n",
    "\n",
    "    # Output the new dataframe\n",
    "    print(top_10_false_words)\n",
    "else:\n",
    "    print(\"The 'is_correct' column does not exist in the dataframe.\")"
   ]
  },
  {
   "cell_type": "code",
   "execution_count": null,
   "metadata": {},
   "outputs": [],
   "source": []
  },
  {
   "cell_type": "markdown",
   "metadata": {},
   "source": [
    "From the given tables we can conclude that anything marked with provision "
   ]
  }
 ],
 "metadata": {
  "kernelspec": {
   "display_name": "Python 3",
   "language": "python",
   "name": "python3"
  },
  "language_info": {
   "codemirror_mode": {
    "name": "ipython",
    "version": 3
   },
   "file_extension": ".py",
   "mimetype": "text/x-python",
   "name": "python",
   "nbconvert_exporter": "python",
   "pygments_lexer": "ipython3",
   "version": "3.12.1"
  }
 },
 "nbformat": 4,
 "nbformat_minor": 2
}
