{
 "cells": [
  {
   "cell_type": "markdown",
   "metadata": {},
   "source": [
    "## Accuracy chart"
   ]
  },
  {
   "cell_type": "code",
   "execution_count": 5,
   "metadata": {},
   "outputs": [
    {
     "name": "stdout",
     "output_type": "stream",
     "text": [
      "Collecting openpyxl\n",
      "  Downloading openpyxl-3.1.5-py2.py3-none-any.whl.metadata (2.5 kB)\n",
      "Collecting et-xmlfile (from openpyxl)\n",
      "  Downloading et_xmlfile-2.0.0-py3-none-any.whl.metadata (2.7 kB)\n",
      "Downloading openpyxl-3.1.5-py2.py3-none-any.whl (250 kB)\n",
      "Downloading et_xmlfile-2.0.0-py3-none-any.whl (18 kB)\n",
      "Installing collected packages: et-xmlfile, openpyxl\n",
      "Successfully installed et-xmlfile-2.0.0 openpyxl-3.1.5\n",
      "Note: you may need to restart the kernel to use updated packages.\n",
      "                                               query  \\\n",
      "0  Provision of Event Management Services   [Cat ...   \n",
      "1  PROVISION OF GDC RESOURCES    EXTRANET BANDWID...   \n",
      "2  WOG Translation and Related Services Period Co...   \n",
      "3  WOG Research Services Period Contract cum Fram...   \n",
      "4  WOG Research Services Period Contract cum Fram...   \n",
      "\n",
      "                         expected_description  top_similarity_score  \\\n",
      "0                    Other Services(OOE only)                 30.01   \n",
      "1  Tech Services-Network and Cabling Services                 30.14   \n",
      "2                    Other Services(OOE only)                 30.17   \n",
      "3                    Other Services(OOE only)                 30.21   \n",
      "4                    Other Services(OOE only)                 30.21   \n",
      "\n",
      "   is_correct                                      top_5_matches  \\\n",
      "0        True  Other Services-Property Management Services; T...   \n",
      "1        True  Utilities-Telecommunications; Other Services-L...   \n",
      "2        True  Staff Well-Being(OOE only); Fixed Asset Purcha...   \n",
      "3        True  Utilities-Telecommunications; Tech Services-IC...   \n",
      "4        True  Utilities-Telecommunications; Tech Services-IC...   \n",
      "\n",
      "  remarks (general only, maybe inaccurate)  \n",
      "0                                      NaN  \n",
      "1                                      NaN  \n",
      "2                                      NaN  \n",
      "3                                      NaN  \n",
      "4                                      NaN  \n"
     ]
    }
   ],
   "source": [
    "%pip install openpyxl\n",
    "\n",
    "import pandas as pd\n",
    "\n",
    "# read the Excel file into a dataframe\n",
    "df = pd.read_excel('/workspaces/insupply/data/output/similarity_range_analysis.xlsx')\n",
    "\n",
    "# output the head of the dataframe\n",
    "print(df.head())"
   ]
  },
  {
   "cell_type": "code",
   "execution_count": null,
   "metadata": {},
   "outputs": [],
   "source": []
  }
 ],
 "metadata": {
  "kernelspec": {
   "display_name": "Python 3",
   "language": "python",
   "name": "python3"
  },
  "language_info": {
   "codemirror_mode": {
    "name": "ipython",
    "version": 3
   },
   "file_extension": ".py",
   "mimetype": "text/x-python",
   "name": "python",
   "nbconvert_exporter": "python",
   "pygments_lexer": "ipython3",
   "version": "3.12.1"
  }
 },
 "nbformat": 4,
 "nbformat_minor": 2
}
