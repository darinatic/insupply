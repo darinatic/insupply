{
 "cells": [
  {
   "cell_type": "markdown",
   "id": "4c678834-d96d-4f01-9b03-e707260eddc0",
   "metadata": {},
   "source": [
    "**Load test data from excel into dataframe**"
   ]
  },
  {
   "cell_type": "code",
   "execution_count": 4,
   "id": "d9b795ed-1e53-45c1-b06e-679f599e9731",
   "metadata": {},
   "outputs": [
    {
     "name": "stdout",
     "output_type": "stream",
     "text": [
      "Please select the training data file:\n",
      "Top 5 rows in the training DataFrame:\n",
      "   Unnamed: 0                               Combined Description  \\\n",
      "0       93203      PROVISION OF CATERING SERVICES    [Caterin...   \n",
      "1       41610    PROVISION OF LOGISTICS SERVICES FOR HOME TEA...   \n",
      "2       95154     WOG Video and Animation Period Contract and...   \n",
      "3       58051    PROVISION OF LOGISTICS SERVICES FOR HOME TEA...   \n",
      "4        4906    SUPPLY OF CALL CENTRE SYSTEM WITH MAINTENANC...   \n",
      "\n",
      "                                     Commitment item  \\\n",
      "0  212901 - Other Assets511999 - Direct Project: ...   \n",
      "1  212401 - Other Equipment511999 - Direct Projec...   \n",
      "2     218999 - Other Services511699 - Other Services   \n",
      "3     218999 - Other Services511199 - Other Manpower   \n",
      "4  226301 - Maintenance: ICT Hardware Integrated ...   \n",
      "\n",
      "                                         predictions  confidence  \\\n",
      "0  212901 - Other Assets511999 - Direct Project: ...    0.969243   \n",
      "1  212401 - Other Equipment511999 - Direct Projec...    0.981227   \n",
      "2     218999 - Other Services511699 - Other Services    0.977066   \n",
      "3     218999 - Other Services511199 - Other Manpower    0.988522   \n",
      "4  226301 - Maintenance: ICT Hardware Integrated ...    0.951921   \n",
      "\n",
      "   confi(rounded)  Match Verified GL Jeanette Unnamed: 9  \n",
      "0            0.97   True         NaN      NaN        NaN  \n",
      "1            0.98   True         NaN      NaN        NaN  \n",
      "2            0.98   True         NaN      NaN        NaN  \n",
      "3            0.99   True         NaN      NaN        NaN  \n",
      "4            0.95   True         NaN      NaN        NaN  \n"
     ]
    }
   ],
   "source": [
    "import pandas as pd\n",
    "from tkinter import Tk\n",
    "from tkinter.filedialog import askopenfilename\n",
    "\n",
    "# Use tkinter to select the Excel file\n",
    "def select_file():\n",
    "    Tk().withdraw() \n",
    "    file_path = askopenfilename(\n",
    "        title=\"Select Training Excel File\",\n",
    "        filetypes=[(\"Excel files\", \"*.xlsx *.xls\"), (\"All files\", \"*.*\")]\n",
    "    )\n",
    "    return file_path\n",
    "\n",
    "# Prompt the user\n",
    "print(\"Please select the training data file:\")\n",
    "training_excel_file = select_file()\n",
    "\n",
    "if training_excel_file:\n",
    "    df_training = pd.read_excel(training_excel_file, sheet_name='Sheet1')\n",
    "    print(\"Top 5 rows in the training DataFrame:\")\n",
    "    print(df_training.head())\n",
    "else:\n",
    "    print(\"No file selected. Please try again.\")"
   ]
  },
  {
   "cell_type": "markdown",
   "id": "565b4a71-f5a1-4a3f-87ba-c1de0b503ebc",
   "metadata": {},
   "source": [
    "**Data cleansing**"
   ]
  },
  {
   "cell_type": "code",
   "execution_count": 6,
   "id": "a147fd51-4c2d-4a25-9825-611d93623152",
   "metadata": {
    "scrolled": true
   },
   "outputs": [
    {
     "name": "stdout",
     "output_type": "stream",
     "text": [
      "\n",
      "Cleaned training DataFrame:\n",
      "  material_number                                        description  \\\n",
      "0          212901        Other Assets511999 - Direct Project: Others   \n",
      "1          212401     Other Equipment511999 - Direct Project: Others   \n",
      "2          218999              Other Services511699 - Other Services   \n",
      "3          218999              Other Services511199 - Other Manpower   \n",
      "4          226301  Maintenance: ICT Hardware Integrated with Soft...   \n",
      "\n",
      "                                Combined Description  \n",
      "0  PROVISION OF CATERING SERVICES    [Catering 01...  \n",
      "1  PROVISION OF LOGISTICS SERVICES FOR HOME TEAM ...  \n",
      "2  WOG Video and Animation Period Contract and Fr...  \n",
      "3  PROVISION OF LOGISTICS SERVICES FOR HOME TEAM ...  \n",
      "4  SUPPLY OF CALL CENTRE SYSTEM WITH MAINTENANCE ...  \n"
     ]
    }
   ],
   "source": [
    "# Ensure the necessary columns exist \n",
    "if 'Combined Description' not in df_training.columns or 'Commitment item' not in df_training.columns:\n",
    "    raise ValueError(\"The training Excel file must contain 'Combined Description' and 'Commitment item' columns.\")\n",
    "\n",
    "# Data cleansing: Remove null values and strip whitespace \n",
    "df_training = df_training.dropna(subset=['Combined Description', 'Commitment item'])  \n",
    "df_training['Combined Description'] = df_training['Combined Description'].str.strip()  \n",
    "\n",
    "# Split 'Commitment item' \n",
    "df_training[['material_number', 'description']] = df_training['Commitment item'].str.split(' - ', n=1, expand=True)\n",
    "\n",
    "df_training = df_training.drop(columns=['Commitment item'])\n",
    "\n",
    "# Display cleaned DataFrame\n",
    "print(\"\\nCleaned training DataFrame:\")\n",
    "print(df_training[['material_number', 'description', 'Combined Description']].head())"
   ]
  },
  {
   "cell_type": "markdown",
   "id": "9f9fe733-be85-4538-a676-dad5fe9f061f",
   "metadata": {},
   "source": [
    "**Vector embedding of materials.json**"
   ]
  },
  {
   "cell_type": "code",
   "execution_count": 2,
   "id": "c9ea8ae6-23ba-4aa8-a4f7-2fa808e727ca",
   "metadata": {},
   "outputs": [
    {
     "name": "stdout",
     "output_type": "stream",
     "text": [
      "\n",
      "Vector embedding completed for reference data\n"
     ]
    }
   ],
   "source": [
    "import sys\n",
    "import os\n",
    "from src import search\n",
    "\n",
    "sys.path.append(os.path.abspath(\"..\"))\n",
    "json_file = '../data/processed/materials.json'\n",
    "\n",
    "# Initialize the search engine with reference data\n",
    "search_engine = search.SentenceTransformerSearch(data_file=json_file)\n",
    "\n",
    "print(\"\\nVector embedding completed for reference data\")"
   ]
  },
  {
   "cell_type": "markdown",
   "id": "16885247-f289-45b4-8ebc-34693700dff4",
   "metadata": {},
   "source": [
    "**Split dataframe into train test, evaluate accuracy of model against training data**"
   ]
  },
  {
   "cell_type": "code",
   "execution_count": 10,
   "id": "2db493d5-2938-4a27-8d6d-4b20775c4bce",
   "metadata": {},
   "outputs": [
    {
     "name": "stdout",
     "output_type": "stream",
     "text": [
      "\n",
      "Evaluation completed. Results saved to ../data/processed/results.json\n"
     ]
    }
   ],
   "source": [
    "from sklearn.model_selection import train_test_split\n",
    "from src.search import evaluate_model\n",
    "import json\n",
    "\n",
    "# Split the data into train and test sets\n",
    "train_df, test_df = train_test_split(df_training, test_size=0.5, random_state=42)\n",
    "\n",
    "# Evaluate the model on the train data\n",
    "results = evaluate_model(search_engine, test_df, top_k=5)\n",
    "\n",
    "# Save results to a JSON file for analysis\n",
    "output_file = \"../data/processed/results.json\"\n",
    "with open(output_file, \"w\") as f:\n",
    "    json.dump(results, f, indent=4)\n",
    "\n",
    "print(f\"\\nEvaluation completed. Results saved to {output_file}\")"
   ]
  },
  {
   "cell_type": "markdown",
   "id": "25fd0d8b",
   "metadata": {},
   "source": [
    "**Generic results**"
   ]
  },
  {
   "cell_type": "code",
   "execution_count": 12,
   "id": "52b2ad01-b661-49a8-bd46-816c1e2177bd",
   "metadata": {},
   "outputs": [],
   "source": [
    "# # Truncate long strings\n",
    "# def truncate_text(text, max_length=30):\n",
    "#     return text if len(text) <= max_length else text[:max_length] + \"...\"\n",
    "\n",
    "# # Calculate accuracy\n",
    "# accuracy = sum(1 for result in results if result[\"is_correct\"]) / len(results)\n",
    "# print(f\"Accuracy: {accuracy:.2%}\")\n",
    "\n",
    "# # Display evaluation results\n",
    "# print(\"\\nEvaluation Results:\")\n",
    "# for idx, result in enumerate(results[:5]):  # Display first 5 results\n",
    "#     query = truncate_text(result[\"query\"], max_length=40)\n",
    "#     expected = result[\"expected\"]\n",
    "#     correct = \"Yes\" if result[\"is_correct\"] else \"No\"\n",
    "\n",
    "#     print(f\"{idx + 1}. Query: {query}\")\n",
    "#     print(f\"   Expected: {expected}\")\n",
    "#     print(f\"   Correct: {correct}\")\n",
    "#     print(\"   Top 5 Matches:\")\n",
    "    \n",
    "#     for match in result[\"retrieved_top_5\"]:\n",
    "#         material_number = match[\"material_number\"]\n",
    "#         description = truncate_text(match[\"description\"], max_length=40)\n",
    "#         similarity_score = match[\"score\"]\n",
    "#         print(f\"      {material_number} - {description} (Score: {similarity_score:.2f}%)\")\n",
    "    \n",
    "#     print(\"-\" * 40)  # Separator between results\n"
   ]
  },
  {
   "cell_type": "code",
   "execution_count": null,
   "id": "5794c422",
   "metadata": {},
   "outputs": [],
   "source": []
  }
 ],
 "metadata": {
  "kernelspec": {
   "display_name": "Python 3 (ipykernel)",
   "language": "python",
   "name": "python3"
  },
  "language_info": {
   "codemirror_mode": {
    "name": "ipython",
    "version": 3
   },
   "file_extension": ".py",
   "mimetype": "text/x-python",
   "name": "python",
   "nbconvert_exporter": "python",
   "pygments_lexer": "ipython3",
   "version": "3.12.7"
  }
 },
 "nbformat": 4,
 "nbformat_minor": 5
}
