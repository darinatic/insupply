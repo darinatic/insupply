{
 "cells": [
  {
   "cell_type": "markdown",
   "id": "4c678834-d96d-4f01-9b03-e707260eddc0",
   "metadata": {},
   "source": [
    "**Load test data from excel into dataframe**"
   ]
  },
  {
   "cell_type": "code",
   "execution_count": 1,
   "id": "d9b795ed-1e53-45c1-b06e-679f599e9731",
   "metadata": {},
   "outputs": [
    {
     "name": "stdout",
     "output_type": "stream",
     "text": [
      "Top 5 rows in the training DataFrame:\n",
      "   Unnamed: 0                               Combined Description  \\\n",
      "0       93203      PROVISION OF CATERING SERVICES    [Caterin...   \n",
      "1       41610    PROVISION OF LOGISTICS SERVICES FOR HOME TEA...   \n",
      "2       95154     WOG Video and Animation Period Contract and...   \n",
      "3       58051    PROVISION OF LOGISTICS SERVICES FOR HOME TEA...   \n",
      "4        4906    SUPPLY OF CALL CENTRE SYSTEM WITH MAINTENANC...   \n",
      "\n",
      "                                     Commitment item  \\\n",
      "0  212901 - Other Assets511999 - Direct Project: ...   \n",
      "1  212401 - Other Equipment511999 - Direct Projec...   \n",
      "2     218999 - Other Services511699 - Other Services   \n",
      "3     218999 - Other Services511199 - Other Manpower   \n",
      "4  226301 - Maintenance: ICT Hardware Integrated ...   \n",
      "\n",
      "                                         predictions  confidence  \\\n",
      "0  212901 - Other Assets511999 - Direct Project: ...    0.969243   \n",
      "1  212401 - Other Equipment511999 - Direct Projec...    0.981227   \n",
      "2     218999 - Other Services511699 - Other Services    0.977066   \n",
      "3     218999 - Other Services511199 - Other Manpower    0.988522   \n",
      "4  226301 - Maintenance: ICT Hardware Integrated ...    0.951921   \n",
      "\n",
      "   confi(rounded)  Match Verified GL Jeanette Unnamed: 9  \n",
      "0            0.97   True         NaN      NaN        NaN  \n",
      "1            0.98   True         NaN      NaN        NaN  \n",
      "2            0.98   True         NaN      NaN        NaN  \n",
      "3            0.99   True         NaN      NaN        NaN  \n",
      "4            0.95   True         NaN      NaN        NaN  \n"
     ]
    }
   ],
   "source": [
    "import pandas as pd\n",
    "\n",
    "# Load the training data from Excel\n",
    "training_excel_file = 'C:/Users/User/Desktop/2024-04-25validate JLJ.xlsx'\n",
    "df_training = pd.read_excel(training_excel_file, sheet_name='Sheet1')\n",
    "\n",
    "# Display the top 5 rows\n",
    "print(\"Top 5 rows in the training DataFrame:\")\n",
    "print(df_training.head())"
   ]
  },
  {
   "cell_type": "markdown",
   "id": "565b4a71-f5a1-4a3f-87ba-c1de0b503ebc",
   "metadata": {},
   "source": [
    "**Data cleansing**"
   ]
  },
  {
   "cell_type": "code",
   "execution_count": 2,
   "id": "a147fd51-4c2d-4a25-9825-611d93623152",
   "metadata": {},
   "outputs": [
    {
     "name": "stdout",
     "output_type": "stream",
     "text": [
      "\n",
      "Cleaned training DataFrame:\n",
      "  material_number                                        description  \\\n",
      "0          212901        Other Assets511999 - Direct Project: Others   \n",
      "1          212401     Other Equipment511999 - Direct Project: Others   \n",
      "2          218999              Other Services511699 - Other Services   \n",
      "3          218999              Other Services511199 - Other Manpower   \n",
      "4          226301  Maintenance: ICT Hardware Integrated with Soft...   \n",
      "\n",
      "                                Combined Description  \n",
      "0  PROVISION OF CATERING SERVICES    [Catering 01...  \n",
      "1  PROVISION OF LOGISTICS SERVICES FOR HOME TEAM ...  \n",
      "2  WOG Video and Animation Period Contract and Fr...  \n",
      "3  PROVISION OF LOGISTICS SERVICES FOR HOME TEAM ...  \n",
      "4  SUPPLY OF CALL CENTRE SYSTEM WITH MAINTENANCE ...  \n"
     ]
    }
   ],
   "source": [
    "# Ensure the necessary columns exist \n",
    "if 'Combined Description' not in df_training.columns or 'Commitment item' not in df_training.columns:\n",
    "    raise ValueError(\"The training Excel file must contain 'Combined Description' and 'Commitment item' columns.\")\n",
    "\n",
    "# Data cleansing: Remove null values and strip whitespace \n",
    "df_training = df_training.dropna(subset=['Combined Description', 'Commitment item'])  \n",
    "df_training['Combined Description'] = df_training['Combined Description'].str.strip()  \n",
    "\n",
    "# Split 'Commitment item' into 'material_number' and 'description'\n",
    "df_training[['material_number', 'description']] = df_training['Commitment item'].str.split(' - ', n=1, expand=True)\n",
    "\n",
    "df_training = df_training.drop(columns=['Commitment item'])\n",
    "\n",
    "# Display cleaned DataFrame\n",
    "print(\"\\nCleaned training DataFrame:\")\n",
    "print(df_training[['material_number', 'description', 'Combined Description']].head())"
   ]
  },
  {
   "cell_type": "markdown",
   "id": "9f9fe733-be85-4538-a676-dad5fe9f061f",
   "metadata": {},
   "source": [
    "**Vector embedding for materials.json**"
   ]
  },
  {
   "cell_type": "code",
   "execution_count": 4,
   "id": "c9ea8ae6-23ba-4aa8-a4f7-2fa808e727ca",
   "metadata": {},
   "outputs": [
    {
     "name": "stdout",
     "output_type": "stream",
     "text": [
      "\n",
      "Preview of Embeddings:\n",
      "Embedding Shape: (66, 384)\n",
      "First 5 Embeddings:\n",
      " [[-0.07546962  0.05160305  0.0790607  ... -0.08441566  0.0499549\n",
      "  -0.04027322]\n",
      " [-0.07687087 -0.03197528 -0.0162298  ...  0.00801737  0.03931644\n",
      "  -0.0210543 ]\n",
      " [-0.07657489 -0.11438267 -0.02763658 ...  0.02153831  0.02106407\n",
      "  -0.01627696]\n",
      " [-0.06721126 -0.0110262   0.05768544 ... -0.05953345  0.03353224\n",
      "   0.0037238 ]\n",
      " [-0.04238549 -0.02467283  0.0833751  ... -0.0147712   0.04955109\n",
      "  -0.00545708]]\n"
     ]
    }
   ],
   "source": [
    "from models import search\n",
    "import numpy as np\n",
    "\n",
    "json_file = 'models/materials.json'\n",
    "\n",
    "# Embed materials.json\n",
    "search_engine = search.SemanticSearch(data_file=json_file)\n",
    "\n",
    "print(\"\\nPreview of Embeddings:\")\n",
    "embedding_array = np.array(search_engine.embeddings)\n",
    "print(\"Embedding Shape:\", embedding_array.shape)\n",
    "print(\"First 5 Embeddings:\\n\", embedding_array[:5])"
   ]
  },
  {
   "cell_type": "markdown",
   "id": "16885247-f289-45b4-8ebc-34693700dff4",
   "metadata": {},
   "source": [
    "**Split dataframe into train test, append new vector embeddings from training data**"
   ]
  },
  {
   "cell_type": "code",
   "execution_count": 5,
   "id": "2db493d5-2938-4a27-8d6d-4b20775c4bce",
   "metadata": {},
   "outputs": [
    {
     "name": "stdout",
     "output_type": "stream",
     "text": [
      "\n",
      "Training Data (Top 5 rows):\n",
      "      Unnamed: 0                               Combined Description  \\\n",
      "8423       19540  Provision of Generic Application Support (GAS)...   \n",
      "2508      106883  PROVISION OF A BULK TENDER ON CYBERSECURITY AN...   \n",
      "8534       27033  Provision of Direct Mailing Services   DM2-084...   \n",
      "1510       43963  PROVISION OF LOGISTICS SERVICES FOR HOME TEAM ...   \n",
      "4314      111398  Five-Year Leasing of Digital Copiers [Ricoh]  ...   \n",
      "\n",
      "                                            predictions  confidence  \\\n",
      "8423  217301 - Software as a Service511603 - Softwar...    0.968961   \n",
      "2508  217501 - ICT Security/Audit Services511605 - I...    0.964394   \n",
      "8534  218401 - Postage and Courier Services511699 - ...    0.962395   \n",
      "1510  212401 - Other Equipment511999 - Direct Projec...    0.967198   \n",
      "4314  212301 - Office Equipment511999 - Direct Proje...    0.969749   \n",
      "\n",
      "      confi(rounded)  Match Verified GL Jeanette Unnamed: 9 material_number  \\\n",
      "8423            0.97   True         NaN      NaN        NaN          217301   \n",
      "2508            0.96   True         NaN      NaN        NaN          217501   \n",
      "8534            0.96   True         NaN      NaN        NaN          218401   \n",
      "1510            0.97   True         NaN      NaN        NaN          212401   \n",
      "4314            0.97   True         NaN      NaN        NaN          212301   \n",
      "\n",
      "                                            description  \n",
      "8423  Software as a Service511603 - Software as a Se...  \n",
      "2508  ICT Security/Audit Services511605 - ICT Securi...  \n",
      "8534  Postage and Courier Services511699 - Other Ser...  \n",
      "1510     Other Equipment511999 - Direct Project: Others  \n",
      "4314    Office Equipment511999 - Direct Project: Others  \n",
      "\n",
      "Preview of Updated Embeddings:\n",
      "Embedding Shape: (7332, 384)\n",
      "First 5 Embeddings:\n",
      " [[-0.07546962  0.05160305  0.0790607  ... -0.08441566  0.0499549\n",
      "  -0.04027322]\n",
      " [-0.07687087 -0.03197528 -0.0162298  ...  0.00801737  0.03931644\n",
      "  -0.0210543 ]\n",
      " [-0.07657489 -0.11438267 -0.02763658 ...  0.02153831  0.02106407\n",
      "  -0.01627696]\n",
      " [-0.06721126 -0.0110262   0.05768544 ... -0.05953345  0.03353224\n",
      "   0.0037238 ]\n",
      " [-0.04238549 -0.02467283  0.0833751  ... -0.0147712   0.04955109\n",
      "  -0.00545708]]\n"
     ]
    }
   ],
   "source": [
    "from sklearn.model_selection import train_test_split\n",
    "from models import search\n",
    "import numpy as np\n",
    "\n",
    "# Split the training data (50/50)\n",
    "train_df, test_df = train_test_split(df_training, test_size=0.5, random_state=42)\n",
    "\n",
    "# Generate embeddings for the 'Combined Description' in train_df\n",
    "combined_descriptions = train_df['Combined Description'].tolist()\n",
    "new_embeddings = search_engine.model.encode(combined_descriptions)\n",
    "\n",
    "# Append the new embeddings to the existing embeddings\n",
    "search_engine.embeddings = np.vstack([search_engine.embeddings, new_embeddings]) \n",
    "\n",
    "# Display data and embeddings\n",
    "print(\"\\nTraining Data (Top 5 rows):\")\n",
    "print(train_df.head())\n",
    "\n",
    "print(\"\\nPreview of Updated Embeddings:\")\n",
    "embedding_array = np.array(search_engine.embeddings)\n",
    "print(\"Embedding Shape:\", embedding_array.shape)\n",
    "print(\"First 5 Embeddings:\\n\", embedding_array[:5])"
   ]
  },
  {
   "cell_type": "code",
   "execution_count": null,
   "id": "52b2ad01-b661-49a8-bd46-816c1e2177bd",
   "metadata": {},
   "outputs": [],
   "source": []
  }
 ],
 "metadata": {
  "kernelspec": {
   "display_name": "Python 3 (ipykernel)",
   "language": "python",
   "name": "python3"
  },
  "language_info": {
   "codemirror_mode": {
    "name": "ipython",
    "version": 3
   },
   "file_extension": ".py",
   "mimetype": "text/x-python",
   "name": "python",
   "nbconvert_exporter": "python",
   "pygments_lexer": "ipython3",
   "version": "3.11.4"
  }
 },
 "nbformat": 4,
 "nbformat_minor": 5
}
