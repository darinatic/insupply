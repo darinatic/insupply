{
 "cells": [
  {
   "cell_type": "markdown",
   "id": "4c678834-d96d-4f01-9b03-e707260eddc0",
   "metadata": {},
   "source": [
    "**Load test data from excel into dataframe**"
   ]
  },
  {
   "cell_type": "code",
   "execution_count": 1,
   "id": "d9b795ed-1e53-45c1-b06e-679f599e9731",
   "metadata": {},
   "outputs": [
    {
     "name": "stdout",
     "output_type": "stream",
     "text": [
      "Top 5 rows in the training DataFrame:\n",
      "   Unnamed: 0                               Combined Description  \\\n",
      "0       93203      PROVISION OF CATERING SERVICES    [Caterin...   \n",
      "1       41610    PROVISION OF LOGISTICS SERVICES FOR HOME TEA...   \n",
      "2       95154     WOG Video and Animation Period Contract and...   \n",
      "3       58051    PROVISION OF LOGISTICS SERVICES FOR HOME TEA...   \n",
      "4        4906    SUPPLY OF CALL CENTRE SYSTEM WITH MAINTENANC...   \n",
      "\n",
      "                                     Commitment item  \\\n",
      "0  212901 - Other Assets511999 - Direct Project: ...   \n",
      "1  212401 - Other Equipment511999 - Direct Projec...   \n",
      "2     218999 - Other Services511699 - Other Services   \n",
      "3     218999 - Other Services511199 - Other Manpower   \n",
      "4  226301 - Maintenance: ICT Hardware Integrated ...   \n",
      "\n",
      "                                         predictions  confidence  \\\n",
      "0  212901 - Other Assets511999 - Direct Project: ...    0.969243   \n",
      "1  212401 - Other Equipment511999 - Direct Projec...    0.981227   \n",
      "2     218999 - Other Services511699 - Other Services    0.977066   \n",
      "3     218999 - Other Services511199 - Other Manpower    0.988522   \n",
      "4  226301 - Maintenance: ICT Hardware Integrated ...    0.951921   \n",
      "\n",
      "   confi(rounded)  Match Verified GL Jeanette Unnamed: 9  \n",
      "0            0.97   True         NaN      NaN        NaN  \n",
      "1            0.98   True         NaN      NaN        NaN  \n",
      "2            0.98   True         NaN      NaN        NaN  \n",
      "3            0.99   True         NaN      NaN        NaN  \n",
      "4            0.95   True         NaN      NaN        NaN  \n"
     ]
    }
   ],
   "source": [
    "import pandas as pd\n",
    "\n",
    "# Load the training data from Excel\n",
    "training_excel_file = 'C:/Users/User/Desktop/insupply-main/datasets/2024-04-25validate JLJ.xlsx'\n",
    "df_training = pd.read_excel(training_excel_file, sheet_name='Sheet1')\n",
    "\n",
    "# Display the top 5 rows\n",
    "print(\"Top 5 rows in the training DataFrame:\")\n",
    "print(df_training.head())"
   ]
  },
  {
   "cell_type": "markdown",
   "id": "565b4a71-f5a1-4a3f-87ba-c1de0b503ebc",
   "metadata": {},
   "source": [
    "**Data cleansing**"
   ]
  },
  {
   "cell_type": "code",
   "execution_count": 2,
   "id": "a147fd51-4c2d-4a25-9825-611d93623152",
   "metadata": {},
   "outputs": [
    {
     "name": "stdout",
     "output_type": "stream",
     "text": [
      "\n",
      "Cleaned training DataFrame:\n",
      "  material_number                                        description  \\\n",
      "0          212901        Other Assets511999 - Direct Project: Others   \n",
      "1          212401     Other Equipment511999 - Direct Project: Others   \n",
      "2          218999              Other Services511699 - Other Services   \n",
      "3          218999              Other Services511199 - Other Manpower   \n",
      "4          226301  Maintenance: ICT Hardware Integrated with Soft...   \n",
      "\n",
      "                                Combined Description  \n",
      "0  PROVISION OF CATERING SERVICES    [Catering 01...  \n",
      "1  PROVISION OF LOGISTICS SERVICES FOR HOME TEAM ...  \n",
      "2  WOG Video and Animation Period Contract and Fr...  \n",
      "3  PROVISION OF LOGISTICS SERVICES FOR HOME TEAM ...  \n",
      "4  SUPPLY OF CALL CENTRE SYSTEM WITH MAINTENANCE ...  \n"
     ]
    }
   ],
   "source": [
    "# Ensure the necessary columns exist \n",
    "if 'Combined Description' not in df_training.columns or 'Commitment item' not in df_training.columns:\n",
    "    raise ValueError(\"The training Excel file must contain 'Combined Description' and 'Commitment item' columns.\")\n",
    "\n",
    "# Data cleansing: Remove null values and strip whitespace \n",
    "df_training = df_training.dropna(subset=['Combined Description', 'Commitment item'])  \n",
    "df_training['Combined Description'] = df_training['Combined Description'].str.strip()  \n",
    "\n",
    "# Split 'Commitment item' \n",
    "df_training[['material_number', 'description']] = df_training['Commitment item'].str.split(' - ', n=1, expand=True)\n",
    "\n",
    "df_training = df_training.drop(columns=['Commitment item'])\n",
    "\n",
    "# Display cleaned DataFrame\n",
    "print(\"\\nCleaned training DataFrame:\")\n",
    "print(df_training[['material_number', 'description', 'Combined Description']].head())"
   ]
  },
  {
   "cell_type": "markdown",
   "id": "9f9fe733-be85-4538-a676-dad5fe9f061f",
   "metadata": {},
   "source": [
    "**Vector embedding of materials.json**"
   ]
  },
  {
   "cell_type": "code",
   "execution_count": 3,
   "id": "c9ea8ae6-23ba-4aa8-a4f7-2fa808e727ca",
   "metadata": {},
   "outputs": [
    {
     "name": "stdout",
     "output_type": "stream",
     "text": [
      "\n",
      "Vectors embedding completed\n"
     ]
    }
   ],
   "source": [
    "from models import search\n",
    "import numpy as np\n",
    "\n",
    "json_file = 'models/materials.json'\n",
    "\n",
    "# Embed materials.json\n",
    "search_engine = search.SemanticSearch(data_file=json_file)\n",
    "\n",
    "print(\"\\nVectors embedding completed\")"
   ]
  },
  {
   "cell_type": "markdown",
   "id": "16885247-f289-45b4-8ebc-34693700dff4",
   "metadata": {},
   "source": [
    "**Split dataframe into train test, evaluate accuracy of model against training data**"
   ]
  },
  {
   "cell_type": "code",
   "execution_count": 4,
   "id": "2db493d5-2938-4a27-8d6d-4b20775c4bce",
   "metadata": {},
   "outputs": [
    {
     "name": "stdout",
     "output_type": "stream",
     "text": [
      "\n",
      "Splitting dataframe, model evaluation completed\n"
     ]
    }
   ],
   "source": [
    "from sklearn.model_selection import train_test_split\n",
    "import numpy as np\n",
    "import json\n",
    "\n",
    "# Split the training data (50/50)\n",
    "train_df, test_df = train_test_split(df_training, test_size=0.5, random_state=42)\n",
    "\n",
    "results = []\n",
    "\n",
    "# Run search for every value of training data\n",
    "for _, row in train_df.iterrows():\n",
    "    query = row[\"Combined Description\"]  \n",
    "    expected_material_number = row[\"material_number\"]  \n",
    "\n",
    "    # Retrieve material number of most likely match\n",
    "    search_results = json.loads(search_engine.search([query], top_k=1)) \n",
    "    retrieved_material_number = search_results[0][\"matches\"][0][\"material_number\"]\n",
    "\n",
    "    # Check if correct\n",
    "    is_correct = retrieved_material_number == expected_material_number\n",
    "    results.append({\"query\": query, \"expected\": expected_material_number, \"retrieved\": retrieved_material_number, \"is_correct\": is_correct})\n",
    "    \n",
    "print(\"\\nSplitting dataframe, model evaluation completed\")"
   ]
  },
  {
   "cell_type": "markdown",
   "id": "88c62b7f",
   "metadata": {},
   "source": [
    "**Display results**"
   ]
  },
  {
   "cell_type": "code",
   "execution_count": 5,
   "id": "52b2ad01-b661-49a8-bd46-816c1e2177bd",
   "metadata": {},
   "outputs": [
    {
     "name": "stdout",
     "output_type": "stream",
     "text": [
      "Accuracy: 12.39%\n",
      "\n",
      "Evaluation Results:\n",
      "1. Query: Provision of Generic Application Support (GAS) for...\n",
      "   Expected: 217301\n",
      "   Retrieved: 226201\n",
      "   Correct: No\n",
      "----------------------------------------\n",
      "2. Query: PROVISION OF A BULK TENDER ON CYBERSECURITY AND AU...\n",
      "   Expected: 217501\n",
      "   Retrieved: 217501\n",
      "   Correct: Yes\n",
      "----------------------------------------\n",
      "3. Query: Provision of Direct Mailing Services   DM2-084 - A...\n",
      "   Expected: 218401\n",
      "   Retrieved: 218401\n",
      "   Correct: Yes\n",
      "----------------------------------------\n",
      "4. Query: PROVISION OF LOGISTICS SERVICES FOR HOME TEAM RETA...\n",
      "   Expected: 212401\n",
      "   Retrieved: 217601\n",
      "   Correct: No\n",
      "----------------------------------------\n",
      "5. Query: Five-Year Leasing of Digital Copiers [Ricoh]   [5-...\n",
      "   Expected: 212301\n",
      "   Retrieved: 275201\n",
      "   Correct: No\n",
      "----------------------------------------\n"
     ]
    }
   ],
   "source": [
    "# Truncate long strings\n",
    "def truncate_text(text, max_length=50):\n",
    "    return text if len(text) <= max_length else text[:max_length] + \"...\"\n",
    "\n",
    "# Calculate accuracy\n",
    "accuracy = sum(1 for result in results if result[\"is_correct\"]) / len(results)\n",
    "print(f\"Accuracy: {accuracy:.2%}\")\n",
    "\n",
    "# Display evaluation results\n",
    "print(\"\\nEvaluation Results:\")\n",
    "for idx, result in enumerate(results[:5]): \n",
    "    query = truncate_text(result[\"query\"], max_length=50)\n",
    "    expected = result[\"expected\"]\n",
    "    retrieved = result[\"retrieved\"]\n",
    "    correct = \"Yes\" if result[\"is_correct\"] else \"No\"\n",
    "    print(f\"{idx + 1}. Query: {query}\")\n",
    "    print(f\"   Expected: {expected}\")\n",
    "    print(f\"   Retrieved: {retrieved}\")\n",
    "    print(f\"   Correct: {correct}\")\n",
    "    print(\"-\" * 40)  "
   ]
  },
  {
   "cell_type": "code",
   "execution_count": null,
   "id": "edc5cf19",
   "metadata": {},
   "outputs": [],
   "source": []
  }
 ],
 "metadata": {
  "kernelspec": {
   "display_name": "Python 3 (ipykernel)",
   "language": "python",
   "name": "python3"
  },
  "language_info": {
   "codemirror_mode": {
    "name": "ipython",
    "version": 3
   },
   "file_extension": ".py",
   "mimetype": "text/x-python",
   "name": "python",
   "nbconvert_exporter": "python",
   "pygments_lexer": "ipython3",
   "version": "3.11.4"
  }
 },
 "nbformat": 4,
 "nbformat_minor": 5
}
